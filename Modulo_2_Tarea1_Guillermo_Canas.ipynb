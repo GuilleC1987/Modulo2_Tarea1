{
  "nbformat": 4,
  "nbformat_minor": 0,
  "metadata": {
    "colab": {
      "provenance": [],
      "authorship_tag": "ABX9TyMTxrCeAv9678fwHoRJJe4f",
      "include_colab_link": true
    },
    "kernelspec": {
      "name": "python3",
      "display_name": "Python 3"
    },
    "language_info": {
      "name": "python"
    }
  },
  "cells": [
    {
      "cell_type": "markdown",
      "metadata": {
        "id": "view-in-github",
        "colab_type": "text"
      },
      "source": [
        "<a href=\"https://colab.research.google.com/github/GuilleC1987/Modulo2_Tarea1/blob/main/Modulo_2_Tarea1_Guillermo_Canas.ipynb\" target=\"_parent\"><img src=\"https://colab.research.google.com/assets/colab-badge.svg\" alt=\"Open In Colab\"/></a>"
      ]
    },
    {
      "cell_type": "code",
      "execution_count": 114,
      "metadata": {
        "id": "ENdKyB9Dsk__"
      },
      "outputs": [],
      "source": [
        "import pandas as pd\n",
        "import numpy as np\n",
        "import matplotlib.pyplot as plt\n",
        "import seaborn as sns\n",
        "from sklearn.pipeline import Pipeline, make_pipeline\n",
        "from sklearn.preprocessing import StandardScaler, OneHotEncoder\n",
        "from sklearn.compose import ColumnTransformer\n",
        "from sklearn.metrics import mean_squared_error, r2_score, mean_absolute_error\n",
        "from sklearn.model_selection import train_test_split, cross_val_score"
      ]
    },
    {
      "cell_type": "code",
      "source": [
        "df = pd.read_csv('/content/Student_Performance.csv')\n",
        "df.head()"
      ],
      "metadata": {
        "id": "U6jkL1chsrCg"
      },
      "execution_count": null,
      "outputs": []
    },
    {
      "cell_type": "markdown",
      "source": [
        "## EDA"
      ],
      "metadata": {
        "id": "K9r0hLaW7wus"
      }
    },
    {
      "cell_type": "code",
      "source": [
        "df.info()"
      ],
      "metadata": {
        "id": "cO3eFITku2cG"
      },
      "execution_count": null,
      "outputs": []
    },
    {
      "cell_type": "code",
      "source": [
        "df.describe().T"
      ],
      "metadata": {
        "id": "t6FjzrZOv-qb"
      },
      "execution_count": null,
      "outputs": []
    },
    {
      "cell_type": "code",
      "source": [
        "correlation_matrix = df.corr(numeric_only=True)"
      ],
      "metadata": {
        "id": "hVqV0VHxtKHf"
      },
      "execution_count": 118,
      "outputs": []
    },
    {
      "cell_type": "code",
      "source": [
        "plt.figure(figsize=(10, 8))\n",
        "sns.heatmap(correlation_matrix,\n",
        "            annot=True,           # Mostrar valores numéricos\n",
        "            cmap='coolwarm',      # Esquema de colores\n",
        "            center=0,             # Centrar el color en 0\n",
        "            square=True,          # Hacer cuadrados las celdas\n",
        "            fmt='.2f',            # Formato de números (2 decimales)\n",
        "            cbar_kws={'shrink': 0.8})  # Ajustar barra de color\n",
        "\n",
        "plt.title('Matriz de Correlación - Heatmap', fontsize=16, pad=20)\n",
        "plt.tight_layout()\n",
        "plt.show()"
      ],
      "metadata": {
        "id": "gtfKalM9uAHe"
      },
      "execution_count": null,
      "outputs": []
    },
    {
      "cell_type": "markdown",
      "source": [
        "Se muestra alta correlación entre columnas Previous Scores y Perdormance Index."
      ],
      "metadata": {
        "id": "TWs8Ascd7rTA"
      }
    },
    {
      "cell_type": "code",
      "source": [
        "# El df Student_Performance no cuenta con valores nulos en ninguna de sus columnas. Por lo anterior, no se realiza imputación de datos nulos o eliminación de\n",
        "# columnas con porcentaje alto de valores nulos\n",
        "null_values = df.isnull().sum()\n",
        "null_values"
      ],
      "metadata": {
        "id": "QiQJGj4WwFXK"
      },
      "execution_count": null,
      "outputs": []
    },
    {
      "cell_type": "code",
      "source": [
        "sns.pairplot(df, diag_kind=\"kde\");"
      ],
      "metadata": {
        "id": "ThGOir2Zwo7i"
      },
      "execution_count": null,
      "outputs": []
    },
    {
      "cell_type": "code",
      "source": [
        "#Se dividen las variables que se utilizarán como entrada y se separan de la variable objetivo.\n",
        "X = df.drop(columns=[\"Performance Index\"])\n",
        "y = df[\"Performance Index\"]"
      ],
      "metadata": {
        "id": "m5PpQxDHxIiK"
      },
      "execution_count": 123,
      "outputs": []
    },
    {
      "cell_type": "code",
      "source": [
        "# Se identifican columnas numéricas\n",
        "numeric_cols = X.select_dtypes(include=\"number\").columns\n",
        "numeric_cols"
      ],
      "metadata": {
        "id": "F5UaSmv3wM-u"
      },
      "execution_count": null,
      "outputs": []
    },
    {
      "cell_type": "code",
      "source": [
        "# Se identifican columnas categóricas. Esta deberá de transformarse en numérica previo al entrenamiento de los modelos de regresión.\n",
        "categorical_cols = X.select_dtypes(include=\"object\").columns\n",
        "categorical_cols"
      ],
      "metadata": {
        "id": "S2OMXozgxSj-"
      },
      "execution_count": null,
      "outputs": []
    },
    {
      "cell_type": "markdown",
      "source": [
        "# Escalamiento, codificacion"
      ],
      "metadata": {
        "id": "oaOE38KqyNX1"
      }
    },
    {
      "cell_type": "code",
      "source": [
        "numeric_pipeline = Pipeline(\n",
        "    steps=[\n",
        "        (\"escalador\", StandardScaler())\n",
        "    ]\n",
        ")"
      ],
      "metadata": {
        "id": "nywhWlhSxdqo"
      },
      "execution_count": 129,
      "outputs": []
    },
    {
      "cell_type": "markdown",
      "source": [
        "# Feature Engineering. Transformación de variables categóricas a numéricas haciendo uso de  sklearn.preprocessing OneHotEncoder"
      ],
      "metadata": {
        "id": "OJWI9MTWyW2h"
      }
    },
    {
      "cell_type": "code",
      "source": [
        "categorical_pipeline = Pipeline(\n",
        "    steps=[\n",
        "        (\"onehot\", OneHotEncoder(sparse_output=False, handle_unknown=\"ignore\"))\n",
        "    ]\n",
        ")"
      ],
      "metadata": {
        "id": "zo4kM5AOyXHk"
      },
      "execution_count": 133,
      "outputs": []
    },
    {
      "cell_type": "code",
      "source": [
        "preprocessor = ColumnTransformer(\n",
        "    transformers=[\n",
        "        (\"numerico\", numeric_pipeline, numeric_cols),\n",
        "        (\"categorico\", categorical_pipeline, categorical_cols)\n",
        "    ]\n",
        ")"
      ],
      "metadata": {
        "id": "BtuKmXjzzEQE"
      },
      "execution_count": 134,
      "outputs": []
    },
    {
      "cell_type": "code",
      "source": [
        "#Se definen los distintos modelos de regresión que serán aplicados en este ejercicio\n",
        "from sklearn.linear_model import LinearRegression, Ridge, Lasso, ElasticNet\n",
        "modelo_lineal = LinearRegression()\n",
        "modelo_ridge = Ridge()\n",
        "modelo_lasso = Lasso()\n",
        "modelo_elasticnet = ElasticNet()"
      ],
      "metadata": {
        "id": "npi29z2AzZKC"
      },
      "execution_count": 200,
      "outputs": []
    },
    {
      "cell_type": "markdown",
      "source": [
        "# Pipeline Modelo Regresión Lineal"
      ],
      "metadata": {
        "id": "CM9BCEmB2ImD"
      }
    },
    {
      "cell_type": "code",
      "source": [
        "#Modelo Regresión Lineal\n",
        "pipeline_reg_lineal = Pipeline(\n",
        "    steps=[\n",
        "        (\"preprocessor\", preprocessor),\n",
        "        (\"modelo\", modelo_lineal)\n",
        "    ]\n",
        ")"
      ],
      "metadata": {
        "id": "wNg2glhGzfF8"
      },
      "execution_count": 201,
      "outputs": []
    },
    {
      "cell_type": "code",
      "source": [
        "#TRAINING\n",
        "from sklearn.model_selection import train_test_split\n",
        "X_train, X_test, y_train, y_test = train_test_split(X, y, test_size=0.2, random_state=42)\n",
        "pipeline_reg_lineal.fit(X_train, y_train)"
      ],
      "metadata": {
        "id": "Agt0wKZ4zmbb"
      },
      "execution_count": null,
      "outputs": []
    },
    {
      "cell_type": "code",
      "source": [
        "y_pred = pipeline_reg_lineal.predict(X_test)"
      ],
      "metadata": {
        "id": "wN9SFlYrzpbx"
      },
      "execution_count": 203,
      "outputs": []
    },
    {
      "cell_type": "code",
      "source": [
        "residuos = y_test - y_pred\n",
        "sns.histplot(residuos, kde=True, bins=30);"
      ],
      "metadata": {
        "id": "9fFUPmFe0vH7"
      },
      "execution_count": null,
      "outputs": []
    },
    {
      "cell_type": "code",
      "source": [
        "MAE = mean_absolute_error(y_test, y_pred)\n",
        "r2 = r2_score(y_test, y_pred)\n",
        "print(f\"MAE: {MAE}\")\n",
        "print(f\"R2: {r2}\")"
      ],
      "metadata": {
        "id": "fA-88Zs000Fr"
      },
      "execution_count": null,
      "outputs": []
    },
    {
      "cell_type": "code",
      "source": [
        "#CROSS - VALIDATION: Modelo de regresión linea\n",
        "modelo_lineal = LinearRegression()\n",
        "pipeline_reg_lineal = Pipeline(\n",
        "    steps=[\n",
        "        (\"preprocessor\", preprocessor),\n",
        "        (\"modelo\", modelo_lineal)\n",
        "    ]\n",
        ")"
      ],
      "metadata": {
        "id": "LIbkl8Vh05g1"
      },
      "execution_count": 206,
      "outputs": []
    },
    {
      "cell_type": "code",
      "source": [
        "pipeline_reg_lineal"
      ],
      "metadata": {
        "id": "DeQWOxmE47Lr"
      },
      "execution_count": null,
      "outputs": []
    },
    {
      "cell_type": "code",
      "source": [
        "X_train, X_test, y_train, y_test = train_test_split(X, y, test_size=0.2, random_state=42, shuffle=True)"
      ],
      "metadata": {
        "id": "3rN8bjKf48_k"
      },
      "execution_count": 208,
      "outputs": []
    },
    {
      "cell_type": "code",
      "source": [
        "# import KFold\n",
        "from sklearn.model_selection import KFold"
      ],
      "metadata": {
        "id": "VEIlol3a4_4y"
      },
      "execution_count": 209,
      "outputs": []
    },
    {
      "cell_type": "markdown",
      "source": [
        "KFold"
      ],
      "metadata": {
        "id": "AS9ZHJe_29sp"
      }
    },
    {
      "cell_type": "code",
      "source": [
        "fold = KFold(n_splits=5, shuffle=True, random_state=42)\n",
        "fold"
      ],
      "metadata": {
        "id": "MBj4Bsfn5BkK"
      },
      "execution_count": null,
      "outputs": []
    },
    {
      "cell_type": "code",
      "source": [
        "scores_linear = cross_val_score(pipeline_reg_lineal, X_train, y_train, cv=fold, scoring=\"r2\")"
      ],
      "metadata": {
        "id": "u5tA98KV5FAM"
      },
      "execution_count": 211,
      "outputs": []
    },
    {
      "cell_type": "code",
      "source": [
        "scores_linear"
      ],
      "metadata": {
        "id": "xnu_awFQ5J59"
      },
      "execution_count": null,
      "outputs": []
    },
    {
      "cell_type": "markdown",
      "source": [
        "# Pipeline Modelo Ridge"
      ],
      "metadata": {
        "id": "1VR4A3i92P_o"
      }
    },
    {
      "cell_type": "code",
      "source": [
        "#Modelo Ridge\n",
        "pipeline_ridge = Pipeline(\n",
        "    steps=[\n",
        "        (\"preprocessor\", preprocessor),\n",
        "        (\"modelo\", modelo_ridge)\n",
        "    ]\n",
        ")"
      ],
      "metadata": {
        "id": "nXV8OLvk5NfV"
      },
      "execution_count": 213,
      "outputs": []
    },
    {
      "cell_type": "code",
      "source": [
        "#TRAINING\n",
        "X_train, X_test, y_train, y_test = train_test_split(X, y, test_size=0.2, random_state=42)\n",
        "pipeline_ridge.fit(X_train, y_train)"
      ],
      "metadata": {
        "id": "VajV-srzzW1h"
      },
      "execution_count": null,
      "outputs": []
    },
    {
      "cell_type": "code",
      "source": [
        "y_pred = pipeline_ridge.predict(X_test)"
      ],
      "metadata": {
        "id": "M_jsEYqdzenu"
      },
      "execution_count": 215,
      "outputs": []
    },
    {
      "cell_type": "code",
      "source": [
        "residuos = y_test - y_pred\n",
        "sns.histplot(residuos, kde=True, bins=30);"
      ],
      "metadata": {
        "id": "vyTiSPtYzjXV"
      },
      "execution_count": null,
      "outputs": []
    },
    {
      "cell_type": "code",
      "source": [
        "MAE_ridge = mean_absolute_error(y_test, y_pred)\n",
        "r2_ridge = r2_score(y_test, y_pred)\n",
        "print(f\"MAE: {MAE_ridge}\")\n",
        "print(f\"R2: {r2_ridge}\")"
      ],
      "metadata": {
        "id": "TRVmWkMkzlf9"
      },
      "execution_count": null,
      "outputs": []
    },
    {
      "cell_type": "code",
      "source": [
        "#RIDGE CROSS - VALIDATION\n",
        "modelo_ridge = Ridge()\n",
        "pipeline_ridge = Pipeline(\n",
        "    steps=[\n",
        "        (\"preprocessor\", preprocessor),\n",
        "        (\"modelo\", modelo_ridge)\n",
        "    ]\n",
        ")"
      ],
      "metadata": {
        "id": "vHOjmO9fzqt0"
      },
      "execution_count": 218,
      "outputs": []
    },
    {
      "cell_type": "code",
      "source": [
        "pipeline_ridge"
      ],
      "metadata": {
        "id": "qCMDy6m7zt4B"
      },
      "execution_count": null,
      "outputs": []
    },
    {
      "cell_type": "code",
      "source": [
        "X_train, X_test, y_train, y_test = train_test_split(X, y, test_size=0.2, random_state=42, shuffle=True)"
      ],
      "metadata": {
        "id": "M_6eGkidzwrD"
      },
      "execution_count": 220,
      "outputs": []
    },
    {
      "cell_type": "code",
      "source": [
        "fold = KFold(n_splits=5, shuffle=True, random_state=42)\n",
        "fold"
      ],
      "metadata": {
        "id": "_c5wLFt6z0et"
      },
      "execution_count": null,
      "outputs": []
    },
    {
      "cell_type": "code",
      "source": [
        "scores_ridge = cross_val_score(pipeline_ridge, X_train, y_train, cv=fold, scoring=\"r2\")\n",
        "scores_ridge"
      ],
      "metadata": {
        "id": "OgQsqUIvz3-Z"
      },
      "execution_count": null,
      "outputs": []
    },
    {
      "cell_type": "markdown",
      "source": [
        "# Pipeline modelo Lasso"
      ],
      "metadata": {
        "id": "WvWVd8wH5wzs"
      }
    },
    {
      "cell_type": "code",
      "source": [
        "#Modelo Lasso\n",
        "pipeline_lasso = Pipeline(\n",
        "    steps=[\n",
        "        (\"preprocessor\", preprocessor),\n",
        "        (\"modelo\", modelo_lasso)\n",
        "    ]\n",
        ")"
      ],
      "metadata": {
        "id": "_zl2VwXxz_JT"
      },
      "execution_count": 223,
      "outputs": []
    },
    {
      "cell_type": "code",
      "source": [
        "#TRAINING\n",
        "X_train, X_test, y_train, y_test = train_test_split(X, y, test_size=0.2, random_state=42)\n",
        "pipeline_lasso.fit(X_train, y_train)"
      ],
      "metadata": {
        "id": "UfenY7NY6Eh8"
      },
      "execution_count": null,
      "outputs": []
    },
    {
      "cell_type": "code",
      "source": [
        "y_pred = pipeline_lasso.predict(X_test)"
      ],
      "metadata": {
        "id": "E_S5Fhlk6JLs"
      },
      "execution_count": 225,
      "outputs": []
    },
    {
      "cell_type": "code",
      "source": [
        "residuos = y_test - y_pred\n",
        "sns.histplot(residuos, kde=True, bins=30);"
      ],
      "metadata": {
        "id": "ogDmN3Qm6LlB"
      },
      "execution_count": null,
      "outputs": []
    },
    {
      "cell_type": "code",
      "source": [
        "MAE_lasso = mean_absolute_error(y_test, y_pred)\n",
        "r2_lasso = r2_score(y_test, y_pred)\n",
        "print(f\"MAE: {MAE_lasso}\")\n",
        "print(f\"R2: {r2_lasso}\")"
      ],
      "metadata": {
        "id": "9UVA7SpP6Rwf"
      },
      "execution_count": null,
      "outputs": []
    },
    {
      "cell_type": "code",
      "source": [
        "#LASSO CROSS - VALIDATION\n",
        "modelo_lasso = Lasso()\n",
        "pipeline_lasso = Pipeline(\n",
        "    steps=[\n",
        "        (\"preprocessor\", preprocessor),\n",
        "        (\"modelo\", modelo_lasso)\n",
        "    ]\n",
        ")"
      ],
      "metadata": {
        "id": "sG5VGimC7L2e"
      },
      "execution_count": 228,
      "outputs": []
    },
    {
      "cell_type": "code",
      "source": [
        "X_train, X_test, y_train, y_test = train_test_split(X, y, test_size=0.2, random_state=42, shuffle=True)"
      ],
      "metadata": {
        "id": "81PT6rERFftM"
      },
      "execution_count": 229,
      "outputs": []
    },
    {
      "cell_type": "code",
      "source": [
        "fold = KFold(n_splits=5, shuffle=True, random_state=42)\n",
        "fold"
      ],
      "metadata": {
        "id": "XPH-SHdbF6CA"
      },
      "execution_count": null,
      "outputs": []
    },
    {
      "cell_type": "code",
      "source": [
        "scores_lasso = cross_val_score(pipeline_lasso, X_train, y_train, cv=fold, scoring=\"r2\")\n",
        "scores_lasso"
      ],
      "metadata": {
        "id": "mQnQ0PZDF-Kv"
      },
      "execution_count": null,
      "outputs": []
    },
    {
      "cell_type": "markdown",
      "source": [
        "#Pipeline Modelo ElasticNet"
      ],
      "metadata": {
        "id": "wrP5FXpXIW8F"
      }
    },
    {
      "cell_type": "code",
      "source": [
        "#Modelo ElasticNet\n",
        "pipeline_elasticnet = Pipeline(\n",
        "    steps=[\n",
        "        (\"preprocessor\", preprocessor),\n",
        "        (\"modelo\", modelo_elasticnet)\n",
        "    ]\n",
        ")"
      ],
      "metadata": {
        "id": "V2yvSZNuIMqt"
      },
      "execution_count": 232,
      "outputs": []
    },
    {
      "cell_type": "code",
      "source": [
        "#TRAINING\n",
        "X_train, X_test, y_train, y_test = train_test_split(X, y, test_size=0.2, random_state=42)\n",
        "pipeline_elasticnet.fit(X_train, y_train)"
      ],
      "metadata": {
        "id": "KQ7X0RaCIrEx"
      },
      "execution_count": null,
      "outputs": []
    },
    {
      "cell_type": "code",
      "source": [
        "y_pred = pipeline_elasticnet.predict(X_test)"
      ],
      "metadata": {
        "id": "_4azA_nyIs5C"
      },
      "execution_count": 234,
      "outputs": []
    },
    {
      "cell_type": "code",
      "source": [
        "residuos = y_test - y_pred\n",
        "sns.histplot(residuos, kde=True, bins=30);"
      ],
      "metadata": {
        "id": "W_D7G5q3IwgQ"
      },
      "execution_count": null,
      "outputs": []
    },
    {
      "cell_type": "code",
      "source": [
        "MAE_elasticnet = mean_absolute_error(y_test, y_pred)\n",
        "r2_elasticnet = r2_score(y_test, y_pred)\n",
        "print(f\"MAE: {MAE_elasticnet}\")\n",
        "print(f\"R2: {r2_elasticnet}\")"
      ],
      "metadata": {
        "id": "-W7n4WO_IyVA"
      },
      "execution_count": null,
      "outputs": []
    },
    {
      "cell_type": "code",
      "source": [
        "#ElasticNet CROSS - VALIDATION\n",
        "modelo_elasticnet = ElasticNet()\n",
        "pipeline_elasticnet = Pipeline(\n",
        "    steps=[\n",
        "        (\"preprocessor\", preprocessor),\n",
        "        (\"modelo\", modelo_elasticnet)\n",
        "    ]\n",
        ")"
      ],
      "metadata": {
        "id": "r8YTmk6zI7lV"
      },
      "execution_count": 237,
      "outputs": []
    },
    {
      "cell_type": "code",
      "source": [
        "X_train, X_test, y_train, y_test = train_test_split(X, y, test_size=0.2, random_state=42, shuffle=True)"
      ],
      "metadata": {
        "id": "XKWc-WS5JUGB"
      },
      "execution_count": 238,
      "outputs": []
    },
    {
      "cell_type": "code",
      "source": [
        "fold = KFold(n_splits=5, shuffle=True, random_state=42)\n",
        "fold"
      ],
      "metadata": {
        "id": "42ym9qeaJTw7"
      },
      "execution_count": null,
      "outputs": []
    },
    {
      "cell_type": "code",
      "source": [
        "scores_elasticnet = cross_val_score(pipeline_elasticnet, X_train, y_train, cv=fold, scoring=\"r2\")\n",
        "scores_elasticnet"
      ],
      "metadata": {
        "id": "DTgxZcFxJZNg"
      },
      "execution_count": null,
      "outputs": []
    },
    {
      "cell_type": "code",
      "source": [
        "df_scores = pd.DataFrame({\n",
        "    'LinearRegression': scores_linear,\n",
        "    'Ridge': scores_ridge,\n",
        "    'Lasso': scores_lasso,\n",
        "    'ElasticNet': scores_elasticnet\n",
        "})"
      ],
      "metadata": {
        "id": "Gk3C9WOKJcsk"
      },
      "execution_count": 241,
      "outputs": []
    },
    {
      "cell_type": "code",
      "source": [
        "df_scores"
      ],
      "metadata": {
        "id": "EfBH1XG4Kt4I"
      },
      "execution_count": null,
      "outputs": []
    },
    {
      "cell_type": "markdown",
      "source": [
        "Para los modelos anteriores y con el fin de evitar el Overfitting se selecciona el modelo ElasticNet, dado que el modelo predice los datos con un r2 alto sin memorizar datos."
      ],
      "metadata": {
        "id": "xUQnmjHn-YLJ"
      }
    },
    {
      "cell_type": "code",
      "source": [],
      "metadata": {
        "id": "6JO3w-HeR1ZA"
      },
      "execution_count": null,
      "outputs": []
    }
  ]
}